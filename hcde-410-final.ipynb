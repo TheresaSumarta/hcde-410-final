{
 "cells": [
  {
   "cell_type": "markdown",
   "id": "5d967eef-5763-4ac4-9e6c-71e2631442ea",
   "metadata": {},
   "source": [
    "## Motivation and problem statement"
   ]
  },
  {
   "cell_type": "markdown",
   "id": "c934c5fe-70a7-4d41-bf86-ae90e84ec391",
   "metadata": {},
   "source": [
    "Recently, Netflix has seen its biggest fall in stock price since 2004. This news has come as a shock to many who had relied on the streaming service during the pandemic as it was not safe to be outside and to go to the movies. There have been many contributing factors that have been discussed that could contribute to the decrease in popularity of this streaming business. Some have attributed their decline in popularity due to its increase in subscription fees, changes in preferences from before, during and after the pandemic and new competitors in the streaming business such as Hulu, Disney+ and Amazon Video.\n",
    "\n",
    "I think that this will be an interesting topic to study as I want to learn more about how the trends in subscriptions, change in consumer preferences and current improvements in the streaming service business model has affected the decrease in stock price. This is really important and fascinating from a human-centered perspective as their streaming patterns and change in behavior during and after the pandemic could have a massive impact on the value of Netflix today. The goal of this project is to investigate which variable caused the greatest repercussion for the drop in Netflix subscriptions and stock price.\n"
   ]
  },
  {
   "cell_type": "markdown",
   "id": "4575d2c7-2b0d-4e5c-81c8-817e753365e8",
   "metadata": {},
   "source": [
    "## Research question and Hypothesis"
   ]
  },
  {
   "cell_type": "markdown",
   "id": "6649d72c-417a-4f81-9037-df6b298d083a",
   "metadata": {},
   "source": [
    "The Research Question: Which variable contributed most to the drop in Netflix's stock price and the decrease in the number of subscribers? Is it the increase in competition from alternative streaming platforms available, the change in viewers' preference from before, during and after the pandemic or its cost of subscription per month as compared to other streaming services?\n",
    "\n",
    "Hypothesis: The increase in the number of well-rated movies available on other streaming platforms such as Hulu, Disney+ and Amazon Video as compared to Netflix had a greater impact on the decrease of Netflix's stock price and number of subscriptions."
   ]
  },
  {
   "cell_type": "markdown",
   "id": "b94a9090-0c11-4fa6-9821-dad7d870d087",
   "metadata": {},
   "source": [
    "## Background and/or Related Work"
   ]
  },
  {
   "cell_type": "markdown",
   "id": "3712310b-7c39-4dc6-90ca-af779405a2a8",
   "metadata": {},
   "source": [
    "Since the rise in the number of streaming platforms available, there has been much research done to compare them to Netflix to determine if it is content and cost competitive. Based on an analysis done by a streaming search engine, Reelgood, by comparing the price breakdown of the different major streamers and the total number of movies available on each service, it concluded that Netflix is currently the most expensive service out of Apple TV+, Amazon Prime Video, Discovery+, Disney+, HBO Max, Hulu and Paramount+[1]. However, it has the biggest TV library and produced the most original content with 39% of its US catalog being original TV shows[1,2]. Its competitor, Prime Video, has the total number of movies available on each service and also provides the most movies per dollar[1]. \n",
    "\n",
    "An article by Business Insider explained that the coronavirus pandemic left the movie-theater industry reeling which accelerated the shift to streaming which produced streaming services such as Disney+ and HBO Max as Netflix continues to increase their output of original shows[2]. The more \"exclusive\" or \"original\" their content, the more attractive the streaming service is[2]. The article mentioned that 89% of Disney Plus' library is exclusive to the service compared to Netflix's 83%, while Hulu and Prime Video had a much smaller share of original and exclusives. It is predicted that Disney+ will continue to produce more high-profile originals and thus it might remain competitive against Netflix. \n",
    "\n",
    "Additionally, Netflix has increased their prices for subscribers in the U.S. and this has impacted their subscribers. The decision to raise prices are not justified as there are many alternatives that are offering cheaper services with more features, making it more difficult for subscribers to stay interested in using Netflix[3]. The rationale behind the increase in subscription fee is to fund new projects that would entice viewers to continue to subscribe to Netflix. But many shows such as \"Everything Sucks!\" and \"The Get Down\" have been cancelled after a few seasons and additional fees have been included to prevent users from sharing accounts. \n",
    "\n",
    "Netflix has recently announced a net loss of 200000 subscribers globally and its share price has slid more than 35% in early trading[4]. Based on the background information that have been found on how Netflix has been operating in recent years, it is clear that the amount and type of shows available, and the change in prices affect average Netflix users. There is a need for Netflix to listen to their customers and lower fees to remain competitive in the new streaming service market.\n",
    "\n",
    "1. \"How Netflix, Disney+, HBO Max, and more major streamers compare on content and cost.\" The Business Insider, 20 Apr. 2022, p. NA. Gale Academic OneFile, link.gale.com/apps/doc/A701029438/AONE?u=wash_main&sid=bookmark-AONE&xid=7757f39c. Accessed 15 May 2022.\n",
    "2. \"How Netflix, Disney Plus, HBO Max, and more compare in the amount of 'exclusives' and 'originals' they offer.\" The Business Insider, 10 Feb. 2021, p. NA. Gale Academic OneFile, link.gale.com/apps/doc/A651349447/AONE?u=wash_main&sid=bookmark-AONE&xid=d7fdb660. Accessed 15 May 2022.\n",
    "3. \"Netflix subscription prices are unaffordable.\" UWIRE Text, 6 Apr. 2022, p. 1. Gale Academic OneFile, link.gale.com/apps/doc/A699669206/AONE?u=wash_main&sid=bookmark-AONE&xid=81eeca0d. Accessed 15 May 2022.\n",
    "4. https://www.theguardian.com/media/2022/apr/20/why-is-netflix-losing-so-many-subscribers-and-what-can-it-do-about-it\n"
   ]
  },
  {
   "cell_type": "markdown",
   "id": "b1cc569d-57f7-4623-b19b-7f83d42a05e4",
   "metadata": {},
   "source": [
    "This research shows that there are many variables that could have contributed towards the decrease in the number of subscribers or the drop in share price for Netflix. The changes made by Netflix to its platform have a great impact on how its users interact with its streaming services and affect their views towards it as well. For Netflix to improve on their streaming service to ensure that it is more human-centered, there is a need to determine which factor caused the greatest repercussion towards Netflix's issues. Thus the study was designed to determine the correlations between the independent variables(increase in competition from alternative streaming platforms available, the change in viewers' preference from before, during and after the pandemic or its cost of subscription per month as compared to other streaming services) and the dependent variable(decrease in number of subscribers). Additionally, by studying trends between the number of subscribers and the share price over the last several years, we can determine if there is a relationship between the two. "
   ]
  },
  {
   "cell_type": "markdown",
   "id": "f58a5f33-49de-41d7-8b69-492b169a0253",
   "metadata": {},
   "source": [
    "## Data selected for analysis"
   ]
  },
  {
   "cell_type": "markdown",
   "id": "86edebae-6d0d-45cc-a593-5e0950e9ad21",
   "metadata": {},
   "source": [
    "1. https://www.kaggle.com/datasets/ruchi798/movies-on-netflix-prime-video-hulu-and-disney\n",
    "\n",
    "The sources of this dataset cannot be found as it is not indicated on the Kaggle page but it was indicated that there are a total of 83 unique contributors that compiled the dataset. Thus it is possible that the dataset is not completely reliable or accurate. \n",
    "\n",
    "The dataset from this Kaggle website is on Movies on Netflix, Prime Video, Hulu and Disney+, along with their ratings on Rotten Tomatoes and the year that they were released. Using this data, I can sieve through movie ratings for movies produced in the last five years and compare between netflix, hulu, prime video and disney+. I can determine which streaming service offers the most movies within the last five years and compare trends between before, during and after the pandemic. Additionally, I can determine if there are more well-rated movies in other streaming platforms as compared to Netflix. Using the data from different streaming platforms, I can do a count on how many well-rated movies there are in each service. (well-rated: above 90%) "
   ]
  },
  {
   "cell_type": "markdown",
   "id": "01fdf945-54cd-4954-9e6b-3af807805186",
   "metadata": {},
   "source": [
    "2. https://www.kaggle.com/datasets/shivamb/netflix-shows\n",
    "\n",
    "The source of this dataset is from a website called Flixable which is search engine for video streaming services that offer a complete list of movies and TV shows in the U.S.  https://flixable.com/.\n",
    "\n",
    "This dataset gives information about tv shows and movies available on Netflix, their release year and their genre. By merging the datasets 1 and 2, I can determine the genre for the movies in dataset 1 and observe the relationship between genres and time period that they were produced, and also make an observation on their popularity based on their Rotten Tomatoes score. I can find out if a better rating score depends on the type of genres, if there is a change in genre preference before, during and after the pandemic.\n"
   ]
  },
  {
   "cell_type": "markdown",
   "id": "8d17bbc0-dc58-40d8-b121-5937cbb7ed75",
   "metadata": {},
   "source": [
    "3. https://www.kaggle.com/code/kazimiqbal/netflix-stock-price/data\n",
    "\n",
    "The data in this dataset is collected from Yahoo Finance. https://finance.yahoo.com/quote/NFLX/.\n",
    "\n",
    "Using this dataset, I can plot the change in the Netflix Stock Price from 2002 to 2022. I will be able to observe the changes in the stock price and compare them with trends in ratings and genres. \n"
   ]
  },
  {
   "cell_type": "markdown",
   "id": "04426f57-241c-415d-ae90-0bce384473d8",
   "metadata": {},
   "source": [
    "4. https://www.statista.com/statistics/250934/quarterly-number-of-netflix-streaming-subscribers-worldwide/\n",
    "\n",
    "Using this dataset, I can plot the change in the number of subscribers over the years from 2013 to 2022. Specifically, I can observe the change in the number of subscribers from before, during and after the pandemic, and compare them with the trends observed from the first three datasets.\n",
    "\n",
    "From the class discussion, my peers told me that I could look into finding a dataset on cinema attendance over the last 5 years. Although I thought that this was a good idea and would be a good comparison to make with the number of subscriptions on Netflix over the last five years, I could not find a dataset on it.\n"
   ]
  },
  {
   "cell_type": "markdown",
   "id": "cdb20dc0-0ed3-4c84-8a30-c8fdf7530818",
   "metadata": {},
   "source": [
    "## Methodology"
   ]
  },
  {
   "cell_type": "markdown",
   "id": "50d7c466-21a9-4920-aab8-8a4485f518ab",
   "metadata": {},
   "source": [
    "The main analytical method that I will be using to determine the correlations between the features(independent variables) and the target(dependent variables) is to use Feature Selection with sklearn and Pandas. The data of each feature is in its own column and a dataframe can be made consisting of all the individual feature columns and the target column. Using a correlation matrix, a heatmap will be created to find the correlation coeffiecient values with values between -1 to 1:\n",
    "\n",
    "- A value closer to 0 implies weaker correlation (exact 0 implying no correlation)\n",
    "- A value closer to 1 implies stronger positive correlation\n",
    "- A value closer to -1 implies stronger negative correlation \n",
    "\n",
    "This method would be useful to map out which features have the greatest impact on the decrease in the number of subscribers. The goal would be to determine which feature is most correlated with the target with a correlation coefficient closest to either 1 or -1, and furthest from 0. This can be easily inferred from a visualization in the form of a heat map as the boxes indicated with a darker color would suggest a greater correlation with the target variable. An assumption in using the pearson correlation method is that the independent variables are not correlated with each other. This means that the competition from other streaming platforms, have no relation with the change in viewes' preference and the subscription fee. \n",
    "\n",
    "To map out the changes in genre preference before, during and after the pandemic, bar graphs will be used to depict how many movies there are of each genre in each period(before, during and after the pandemic). Before: 2018-2019, During: 2020-2021, After: 2022. Therefore there will be a count for the number of movies for each genre using Pandas for each time period. There will be a bar for each genre on each plot and there are a total of three plots, one for each period. It is important to make sure that the scales on the y-axis are consistent so that we can compare the bars across the three charts. \n",
    "\n",
    "To plot the changes in the stock price and number of subscribers, two line graphs will be used to depict those changes, one for the stock price and the other for the number of subscribers over the same time range of 2013 to 2022. The x-axis will represent each year which will allow us to compare the two line graphs and observe if there are any relations with the trends. We can also make an observation of the changes of both variables over time.\n",
    "\n",
    "Additionally, to map put the change in subscription fees, a bar chart will be used to visualize the change for different types of Netflix subscriptions. There are three different plans on Netflix: the basic plan, standard plan and premium plan. Since there is only a new and a old subscription fee, by plotting them as a bar chart side by side, we can visualize the increase in the price."
   ]
  },
  {
   "cell_type": "markdown",
   "id": "826c3080-e630-4a59-a44d-f2cc386dfdfa",
   "metadata": {},
   "source": [
    "## Unknowns and dependencies"
   ]
  },
  {
   "cell_type": "markdown",
   "id": "64e370d0-66fa-4124-a608-53b9265d6dac",
   "metadata": {},
   "source": [
    "I think the biggest factor in completing this assignment is that it would take time to filter the information that I need in the analysis from the datasets as they are rather large. Time management would be the largest issue as I have a Capstone project to finish on top of this assignment. "
   ]
  }
 ],
 "metadata": {
  "kernelspec": {
   "display_name": "Python 3 (ipykernel)",
   "language": "python",
   "name": "python3"
  },
  "language_info": {
   "codemirror_mode": {
    "name": "ipython",
    "version": 3
   },
   "file_extension": ".py",
   "mimetype": "text/x-python",
   "name": "python",
   "nbconvert_exporter": "python",
   "pygments_lexer": "ipython3",
   "version": "3.9.7"
  }
 },
 "nbformat": 4,
 "nbformat_minor": 5
}
